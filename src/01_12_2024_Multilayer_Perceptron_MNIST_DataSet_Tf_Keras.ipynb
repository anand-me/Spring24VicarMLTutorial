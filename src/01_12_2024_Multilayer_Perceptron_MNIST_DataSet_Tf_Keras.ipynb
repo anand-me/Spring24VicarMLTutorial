{
  "nbformat": 4,
  "nbformat_minor": 0,
  "metadata": {
    "colab": {
      "provenance": []
    },
    "kernelspec": {
      "name": "python3",
      "display_name": "Python 3"
    },
    "language_info": {
      "name": "python"
    }
  },
  "cells": [
    {
      "cell_type": "markdown",
      "source": [
        "# *Import necessary libraries*"
      ],
      "metadata": {
        "id": "kA3yxOyRRm4g"
      }
    },
    {
      "cell_type": "code",
      "source": [
        "# data array vsualization libraries\n",
        "import numpy as np\n",
        "import pandas as pd\n",
        "import matplotlib.pyplot as plt\n",
        "import cv2\n",
        "# tensorflow and keras\n",
        "import tensorflow as tf\n",
        "from tensorflow import keras\n",
        "from keras.models import load_model"
      ],
      "metadata": {
        "id": "pnWYPCU3Rw6j"
      },
      "execution_count": 2,
      "outputs": []
    },
    {
      "cell_type": "markdown",
      "source": [
        "# *Import MNIST dataset*\n",
        "The MNIST dataset comprises 60,000 training and 10,000 testing grayscale images of handwritten digits (0 through 9), each represented as 28x28 pixels, serving as a benchmark for image classification tasks in machine learning. It has historically played a crucial role in evaluating various machine learning techniques, particularly in the development and testing of neural networks."
      ],
      "metadata": {
        "id": "I1G_4fEFR24W"
      }
    },
    {
      "cell_type": "code",
      "source": [
        "(x_train, y_train), (x_test, y_test) = keras.datasets.mnist.load_data()\n"
      ],
      "metadata": {
        "colab": {
          "base_uri": "https://localhost:8080/"
        },
        "id": "wELkuwtZR7x2",
        "outputId": "7ad3ff75-98f3-4b13-fb6c-b60ebce40d15"
      },
      "execution_count": 3,
      "outputs": [
        {
          "output_type": "stream",
          "name": "stdout",
          "text": [
            "Downloading data from https://storage.googleapis.com/tensorflow/tf-keras-datasets/mnist.npz\n",
            "11490434/11490434 [==============================] - 0s 0us/step\n"
          ]
        }
      ]
    },
    {
      "cell_type": "code",
      "source": [
        "x_train.shape"
      ],
      "metadata": {
        "colab": {
          "base_uri": "https://localhost:8080/"
        },
        "id": "ptfP1ga2SE9L",
        "outputId": "8ffd8a50-4094-4905-9c26-df1438a8b3b2"
      },
      "execution_count": 4,
      "outputs": [
        {
          "output_type": "execute_result",
          "data": {
            "text/plain": [
              "(60000, 28, 28)"
            ]
          },
          "metadata": {},
          "execution_count": 4
        }
      ]
    },
    {
      "cell_type": "code",
      "source": [
        "print(x_test.shape, y_test.shape)"
      ],
      "metadata": {
        "colab": {
          "base_uri": "https://localhost:8080/"
        },
        "id": "7urlEnl-SK4x",
        "outputId": "eda343b5-8f8e-47fa-c86e-961d9eccd42f"
      },
      "execution_count": 5,
      "outputs": [
        {
          "output_type": "stream",
          "name": "stdout",
          "text": [
            "(10000, 28, 28) (10000,)\n"
          ]
        }
      ]
    },
    {
      "cell_type": "markdown",
      "source": [
        "* Test any data sample to check if correct or not !!*"
      ],
      "metadata": {
        "id": "m_bNNHAHTQ7E"
      }
    },
    {
      "cell_type": "code",
      "source": [
        "#x_test\n",
        "#y_test\n",
        "print('label=',y_train[0])\n",
        "plt.imshow(x_train[0])"
      ],
      "metadata": {
        "colab": {
          "base_uri": "https://localhost:8080/",
          "height": 465
        },
        "id": "ZPAC4OgyTgG8",
        "outputId": "ca2cce9e-bd48-4e09-9f69-93a00c4e8991"
      },
      "execution_count": 8,
      "outputs": [
        {
          "output_type": "stream",
          "name": "stdout",
          "text": [
            "label= 5\n"
          ]
        },
        {
          "output_type": "execute_result",
          "data": {
            "text/plain": [
              "<matplotlib.image.AxesImage at 0x78ada7370040>"
            ]
          },
          "metadata": {},
          "execution_count": 8
        },
        {
          "output_type": "display_data",
          "data": {
            "text/plain": [
              "<Figure size 640x480 with 1 Axes>"
            ],
            "image/png": "[encoded data removed]"
          },
          "metadata": {}
        }
      ]
    },
    {
      "cell_type": "markdown",
      "source": [
        "# *Data Preprocessing*"
      ],
      "metadata": {
        "id": "raSaZRktUb2P"
      }
    },
    {
      "cell_type": "code",
      "source": [
        "print(x_train.max(), x_train.min(), x_test.max(), x_test.min())"
      ],
      "metadata": {
        "colab": {
          "base_uri": "https://localhost:8080/"
        },
        "id": "JhQoTSChUjcQ",
        "outputId": "9308b99a-b726-49dc-e861-a40a2ae73cec"
      },
      "execution_count": 12,
      "outputs": [
        {
          "output_type": "stream",
          "name": "stdout",
          "text": [
            "255 0 255 0\n"
          ]
        }
      ]
    },
    {
      "cell_type": "code",
      "source": [
        "y_train[:6]"
      ],
      "metadata": {
        "colab": {
          "base_uri": "https://localhost:8080/"
        },
        "id": "Liq2P1sMU-I8",
        "outputId": "485d0915-c6c4-4526-9599-c31f6796f696"
      },
      "execution_count": 13,
      "outputs": [
        {
          "output_type": "execute_result",
          "data": {
            "text/plain": [
              "array([5, 0, 4, 1, 9, 2], dtype=uint8)"
            ]
          },
          "metadata": {},
          "execution_count": 13
        }
      ]
    },
    {
      "cell_type": "markdown",
      "source": [
        "# *Rescale the data so the data rwnages from 0 to 1 rather 0 to 255*"
      ],
      "metadata": {
        "id": "W3Nlb_z0VGuR"
      }
    },
    {
      "cell_type": "code",
      "source": [
        "x_train_processed, x_test_processed = x_train / 255.0, x_test /255.0\n",
        "print(x_train_processed.max(), x_train_processed.min(), x_test_processed.max(), x_test_processed.min())\n"
      ],
      "metadata": {
        "colab": {
          "base_uri": "https://localhost:8080/"
        },
        "id": "ZeRq9CB0VQg9",
        "outputId": "0f69fc66-304b-4306-d2bc-cd5f0958f100"
      },
      "execution_count": 15,
      "outputs": [
        {
          "output_type": "stream",
          "name": "stdout",
          "text": [
            "1.0 0.0 1.0 0.0\n"
          ]
        }
      ]
    },
    {
      "cell_type": "markdown",
      "source": [
        "# *Build a Classifier using MLP (Multi Layer perceptron)*"
      ],
      "metadata": {
        "id": "Vb0qmNzmVhri"
      }
    },
    {
      "cell_type": "code",
      "source": [
        "from keras.models import Sequential\n",
        "from keras.layers import Convolution2D, MaxPooling2D\n",
        "from keras.layers import Flatten, Dense,Dropout\n",
        "from keras.optimizers import Adam"
      ],
      "metadata": {
        "id": "Km_bvC_PVnPM"
      },
      "execution_count": 17,
      "outputs": []
    },
    {
      "cell_type": "code",
      "source": [
        "model = keras.models.Sequential([\n",
        "    keras.layers.Flatten(input_shape=(28, 28)),\n",
        "    keras.layers.Dense(128, activation='relu'),\n",
        "    keras.layers.Dropout(0.2),\n",
        "    keras.layers.Dense(10, activation='softmax')\n",
        "])"
      ],
      "metadata": {
        "id": "M3wfkM8OWMzF"
      },
      "execution_count": 18,
      "outputs": []
    },
    {
      "cell_type": "code",
      "source": [
        "model.summary()"
      ],
      "metadata": {
        "colab": {
          "base_uri": "https://localhost:8080/"
        },
        "id": "QFs7QOJKXM2C",
        "outputId": "cb2fd8b7-9f82-43ef-db0a-c798fdcb49d9"
      },
      "execution_count": 20,
      "outputs": [
        {
          "output_type": "stream",
          "name": "stdout",
          "text": [
            "Model: \"sequential\"\n",
            "_________________________________________________________________\n",
            " Layer (type)                Output Shape              Param #   \n",
            "=================================================================\n",
            " flatten (Flatten)           (None, 784)               0         \n",
            "                                                                 \n",
            " dense (Dense)               (None, 128)               100480    \n",
            "                                                                 \n",
            " dropout (Dropout)           (None, 128)               0         \n",
            "                                                                 \n",
            " dense_1 (Dense)             (None, 10)                1290      \n",
            "                                                                 \n",
            "=================================================================\n",
            "Total params: 101770 (397.54 KB)\n",
            "Trainable params: 101770 (397.54 KB)\n",
            "Non-trainable params: 0 (0.00 Byte)\n",
            "_________________________________________________________________\n"
          ]
        }
      ]
    },
    {
      "cell_type": "code",
      "source": [
        " # 784 * 128 + 128 (trainable parameters)\n",
        " # 128 * 10 + 10"
      ],
      "metadata": {
        "colab": {
          "base_uri": "https://localhost:8080/"
        },
        "id": "2b-TBdKBXbTL",
        "outputId": "8fa0071b-4e85-489e-fced-6991a987c0f1"
      },
      "execution_count": 21,
      "outputs": [
        {
          "output_type": "execute_result",
          "data": {
            "text/plain": [
              "100480"
            ]
          },
          "metadata": {},
          "execution_count": 21
        }
      ]
    },
    {
      "cell_type": "markdown",
      "source": [
        "# *Compile the Model using Adam Optimizer*\n",
        "\n",
        "Adam (Adaptive Moment Estimation) optimizer is an extension of the stochastic gradient descent (SGD) optimization algorithm. The key idea is to adaptively adjust the learning rates for each parameter based on historical information."
      ],
      "metadata": {
        "id": "g-FlELvRX53O"
      }
    },
    {
      "cell_type": "code",
      "source": [
        "model.compile(optimizer='adam',\n",
        "              loss='sparse_categorical_crossentropy',\n",
        "              metrics=['accuracy'])"
      ],
      "metadata": {
        "id": "yJmAm2LVYB5b"
      },
      "execution_count": 22,
      "outputs": []
    },
    {
      "cell_type": "markdown",
      "source": [
        " # *Train and Test Model*"
      ],
      "metadata": {
        "id": "Q3CmbBchYuxl"
      }
    },
    {
      "cell_type": "code",
      "source": [
        "history = model.fit(x_train_processed, y_train, epochs=5)\n",
        "history"
      ],
      "metadata": {
        "colab": {
          "base_uri": "https://localhost:8080/"
        },
        "id": "aDtkd8f6Y1Pi",
        "outputId": "36a6b085-20fe-4c3f-e0ee-ca4b6ad1d000"
      },
      "execution_count": 23,
      "outputs": [
        {
          "output_type": "stream",
          "name": "stdout",
          "text": [
            "Epoch 1/5\n",
            "1875/1875 [==============================] - 9s 4ms/step - loss: 0.3003 - accuracy: 0.9133\n",
            "Epoch 2/5\n",
            "1875/1875 [==============================] - 8s 4ms/step - loss: 0.1452 - accuracy: 0.9570\n",
            "Epoch 3/5\n",
            "1875/1875 [==============================] - 7s 4ms/step - loss: 0.1085 - accuracy: 0.9674\n",
            "Epoch 4/5\n",
            "1875/1875 [==============================] - 8s 4ms/step - loss: 0.0893 - accuracy: 0.9733\n",
            "Epoch 5/5\n",
            "1875/1875 [==============================] - 7s 4ms/step - loss: 0.0775 - accuracy: 0.9761\n"
          ]
        },
        {
          "output_type": "execute_result",
          "data": {
            "text/plain": [
              "<keras.src.callbacks.History at 0x78ada7388dc0>"
            ]
          },
          "metadata": {},
          "execution_count": 23
        }
      ]
    },
    {
      "cell_type": "markdown",
      "source": [
        "# *Evaluation*"
      ],
      "metadata": {
        "id": "CxnsjrzGZHKJ"
      }
    },
    {
      "cell_type": "code",
      "source": [
        "test_loss, test_acc = model.evaluate(x_test_processed, y_test)\n",
        "print(\"Test Loss: \", test_loss)\n",
        "print(\"Test Accuracy: \", test_acc)"
      ],
      "metadata": {
        "colab": {
          "base_uri": "https://localhost:8080/"
        },
        "id": "Rvvcr86tZNsM",
        "outputId": "6473ffb6-1401-42fb-87c2-3c6a0e797553"
      },
      "execution_count": 25,
      "outputs": [
        {
          "output_type": "stream",
          "name": "stdout",
          "text": [
            "313/313 [==============================] - 1s 3ms/step - loss: 0.0767 - accuracy: 0.9764\n",
            "Test Loss:  0.07673200964927673\n",
            "Test Accuracy:  0.9764000177383423\n"
          ]
        }
      ]
    },
    {
      "cell_type": "markdown",
      "source": [
        "# *Access Loss and Accuracy details from the training history*\n"
      ],
      "metadata": {
        "id": "qmXNR6K6Zzc2"
      }
    },
    {
      "cell_type": "code",
      "source": [
        "training_loss = history.history['loss']\n",
        "training_accuracy = history.history['accuracy']"
      ],
      "metadata": {
        "id": "Db8fahkeZ5CQ"
      },
      "execution_count": 26,
      "outputs": []
    },
    {
      "cell_type": "code",
      "source": [
        "# Create subplots for loss and accuracy\n",
        "plt.figure(figsize=(8, 3))\n",
        "# Loss subplot\n",
        "plt.subplot(1,2,1)\n",
        "plt.plot(training_loss, label='Training Loss')\n",
        "plt.xlabel('Epochs')\n",
        "plt.ylabel('Loss')\n",
        "plt.grid(True, linestyle='--', alpha=0.7)\n",
        "plt.legend()\n",
        "\n",
        "# Accuracy subplot\n",
        "plt.subplot(1,2, 2)\n",
        "plt.plot(training_accuracy, label='Training Accuracy')\n",
        "plt.xlabel('Epochs')\n",
        "plt.ylabel('Accuracy')\n",
        "plt.legend()\n",
        "plt.grid(True, linestyle='--', alpha=0.7)\n",
        "plt.show()"
      ],
      "metadata": {
        "colab": {
          "base_uri": "https://localhost:8080/",
          "height": 311
        },
        "id": "vbPnoRBQZ-FJ",
        "outputId": "868ed40b-199a-4f0b-9429-4d8bbb5672e9"
      },
      "execution_count": 36,
      "outputs": [
        {
          "output_type": "display_data",
          "data": {
            "text/plain": [
              "<Figure size 800x300 with 2 Axes>"
            ],
            "image/png": "[encoded data removed]"
          },
          "metadata": {}
        }
      ]
    },
    {
      "cell_type": "markdown",
      "source": [
        "# *Let's make predictions on the test test and check whether those predictions are correct or not*\n"
      ],
      "metadata": {
        "id": "S-zgUVMlaKWR"
      }
    },
    {
      "cell_type": "code",
      "source": [
        "#x_test_processed[1]\n",
        "model.predict(x_test_processed)[2].argmax()\n"
      ],
      "metadata": {
        "colab": {
          "base_uri": "https://localhost:8080/"
        },
        "id": "0MEOV6nGaNu0",
        "outputId": "f48112ba-560b-4699-8753-dffd25739c10"
      },
      "execution_count": 32,
      "outputs": [
        {
          "output_type": "stream",
          "name": "stdout",
          "text": [
            "313/313 [==============================] - 1s 2ms/step\n"
          ]
        },
        {
          "output_type": "execute_result",
          "data": {
            "text/plain": [
              "1"
            ]
          },
          "metadata": {},
          "execution_count": 32
        }
      ]
    },
    {
      "cell_type": "code",
      "source": [
        "y_test[0]"
      ],
      "metadata": {
        "colab": {
          "base_uri": "https://localhost:8080/"
        },
        "id": "I60Uwp79aogS",
        "outputId": "26a94144-f63b-4db3-f3b0-3e6fead46e67"
      },
      "execution_count": 31,
      "outputs": [
        {
          "output_type": "execute_result",
          "data": {
            "text/plain": [
              "7"
            ]
          },
          "metadata": {},
          "execution_count": 31
        }
      ]
    },
    {
      "cell_type": "code",
      "source": [
        "plt.imshow(x_test[1])"
      ],
      "metadata": {
        "colab": {
          "base_uri": "https://localhost:8080/",
          "height": 447
        },
        "id": "LOHJJBGubVtm",
        "outputId": "62333835-f467-490e-cf49-8371ae89e464"
      },
      "execution_count": 43,
      "outputs": [
        {
          "output_type": "execute_result",
          "data": {
            "text/plain": [
              "<matplotlib.image.AxesImage at 0x78ada1f684c0>"
            ]
          },
          "metadata": {},
          "execution_count": 43
        },
        {
          "output_type": "display_data",
          "data": {
            "text/plain": [
              "<Figure size 640x480 with 1 Axes>"
            ],
            "image/png": "[encoded data removed]"
          },
          "metadata": {}
        }
      ]
    },
    {
      "cell_type": "code",
      "source": [
        "y_test[2]"
      ],
      "metadata": {
        "colab": {
          "base_uri": "https://localhost:8080/"
        },
        "id": "MVH8lzPhbnBK",
        "outputId": "b3620a66-ef2f-4d0e-bfee-beacf62f039c"
      },
      "execution_count": 45,
      "outputs": [
        {
          "output_type": "execute_result",
          "data": {
            "text/plain": [
              "1"
            ]
          },
          "metadata": {},
          "execution_count": 45
        }
      ]
    },
    {
      "cell_type": "code",
      "source": [
        "predictions = model.predict(x_test_processed)\n",
        "plt.figure(figsize=(12, 5))\n",
        "#plt.figure()\n",
        "for i in range(10):\n",
        "    plt.subplot(1,10, i+1)\n",
        "    prediction = predictions[i].argmax()\n",
        "    image =plt.imshow(x_test_processed[i])\n",
        "    plt.xlabel('prediction: '+str(prediction))\n",
        "    plt.xticks([])  # Hide the x-axis scale and ticks\n",
        "    plt.yticks([])  # Hide the y-axis scale and ticks\n",
        ""
      ],
      "metadata": {
        "colab": {
          "base_uri": "https://localhost:8080/",
          "height": 152
        },
        "id": "WFZS6oGybppq",
        "outputId": "ba2ec21c-ca5d-4d5a-b732-c6dc9498f083"
      },
      "execution_count": 54,
      "outputs": [
        {
          "output_type": "stream",
          "name": "stdout",
          "text": [
            "313/313 [==============================] - 1s 2ms/step\n"
          ]
        },
        {
          "output_type": "display_data",
          "data": {
            "text/plain": [
              "<Figure size 1200x500 with 10 Axes>"
            ],
            "image/png": "[encoded data removed]"
          },
          "metadata": {}
        }
      ]
    },
    {
      "cell_type": "code",
      "source": [
        "np.array([10,20, 30000,4, 5,7]).argmax()"
      ],
      "metadata": {
        "colab": {
          "base_uri": "https://localhost:8080/"
        },
        "id": "M3i_Xj0Ob1Hx",
        "outputId": "bc526d71-4147-48ec-b23e-a849bb357827"
      },
      "execution_count": 48,
      "outputs": [
        {
          "output_type": "execute_result",
          "data": {
            "text/plain": [
              "2"
            ]
          },
          "metadata": {},
          "execution_count": 48
        }
      ]
    }
  ]
}